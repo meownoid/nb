{
 "cells": [
  {
   "cell_type": "code",
   "execution_count": null,
   "id": "72016b03",
   "metadata": {},
   "outputs": [],
   "source": [
    "print(\"This should be ignored\")"
   ]
  },
  {
   "cell_type": "code",
   "execution_count": null,
   "id": "7165e440",
   "metadata": {},
   "outputs": [],
   "source": [
    "# nb.start\n",
    "print(\"This should be included\")\n",
    "# ipython_path = \"/custom/python/path\""
   ]
  },
  {
   "cell_type": "code",
   "execution_count": null,
   "id": "651a9a6d",
   "metadata": {},
   "outputs": [],
   "source": [
    "def test_function():\n",
    "    return \"Hello World\"\n",
    "    \n",
    "print(test_function())"
   ]
  },
  {
   "cell_type": "code",
   "execution_count": null,
   "id": "1b06ff99",
   "metadata": {},
   "outputs": [],
   "source": [
    "# nb.end"
   ]
  },
  {
   "cell_type": "code",
   "execution_count": null,
   "id": "98924767",
   "metadata": {},
   "outputs": [],
   "source": [
    "# This code will also be ignored\n",
    "print(\"This code is outside the nb.start/nb.end markers\")"
   ]
  }
 ],
 "metadata": {
  "language_info": {
   "name": "python"
  }
 },
 "nbformat": 4,
 "nbformat_minor": 5
}
