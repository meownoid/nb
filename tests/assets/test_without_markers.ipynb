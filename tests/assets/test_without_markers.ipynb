{
 "cells": [
  {
   "cell_type": "code",
   "execution_count": null,
   "id": "c78a9869",
   "metadata": {},
   "outputs": [],
   "source": [
    "print(\"This should be included\")"
   ]
  },
  {
   "cell_type": "code",
   "execution_count": null,
   "id": "136ea4c5",
   "metadata": {},
   "outputs": [],
   "source": [
    "def calculate_factorial(n):\n",
    "    \"\"\"Calculate factorial of n\"\"\"\n",
    "    if n == 0 or n == 1:\n",
    "        return 1\n",
    "    else:\n",
    "        return n * calculate_factorial(n-1)\n",
    "        \n",
    "print(calculate_factorial(5))  # Should print 120"
   ]
  },
  {
   "cell_type": "code",
   "execution_count": null,
   "id": "6e0fd495",
   "metadata": {},
   "outputs": [],
   "source": [
    "# This should also be included\n",
    "print(\"This is the end of the notebook\")"
   ]
  }
 ],
 "metadata": {
  "language_info": {
   "name": "python"
  }
 },
 "nbformat": 4,
 "nbformat_minor": 5
}
